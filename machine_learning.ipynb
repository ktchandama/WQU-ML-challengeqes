{
  "cells": [
    {
      "cell_type": "markdown",
      "metadata": {
        "id": "view-in-github",
        "colab_type": "text"
      },
      "source": [
        "<a href=\"https://colab.research.google.com/github/ktchandama/WQU-ML-challengeqes/blob/main/machine_learning.ipynb\" target=\"_parent\"><img src=\"https://colab.research.google.com/assets/colab-badge.svg\" alt=\"Open In Colab\"/></a>"
      ]
    },
    {
      "cell_type": "code",
      "execution_count": null,
      "metadata": {
        "init_cell": true,
        "id": "TWcVi0C3NORA"
      },
      "outputs": [],
      "source": [
        "import seaborn as sns\n",
        "sns.set()"
      ]
    },
    {
      "cell_type": "markdown",
      "metadata": {
        "id": "fer_fsrXNORN"
      },
      "source": [
        "# ML Miniproject\n",
        "## Introduction\n",
        "\n",
        "The objective of this miniproject is to exercise your ability to create effective machine learning models for making predictions. We will be working with nursing home inspection data from the United States, predicting which providers may be fined and for how much.\n",
        "\n",
        "## Scoring\n",
        "\n",
        "In this miniproject you will often submit your model's `predict` or `predict_proba` method to the grader. The grader will assess the performance of your model using a scoring metric, comparing it against the score of a reference model. We will use the [average precision score](http://scikit-learn.org/stable/modules/generated/sklearn.metrics.average_precision_score.html). If your model performs better than the reference solution, then you can score higher than 1.0.\n",
        "\n",
        "**Note:** If you use an estimator that relies on random draws (like a `RandomForestClassifier`) you should set the `random_state=` to an integer so that your results are reproducible. \n",
        "\n",
        "## Downloading the data\n",
        "\n",
        "We can download the data set from Amazon S3:"
      ]
    },
    {
      "cell_type": "code",
      "execution_count": null,
      "metadata": {
        "id": "9YyrNPsNNORW",
        "outputId": "b5997686-075e-480b-d896-948ced0cedd9"
      },
      "outputs": [
        {
          "name": "stderr",
          "output_type": "stream",
          "text": [
            "mkdir: cannot create directory ‘data’: File exists\n",
            "File ‘./ml-data/providers-train.csv’ already there; not retrieving.\n",
            "\n",
            "File ‘./ml-data/providers-metadata.csv’ already there; not retrieving.\n",
            "\n"
          ]
        }
      ],
      "source": [
        "%%bash\n",
        "mkdir data\n",
        "wget http://dataincubator-wqu.s3.amazonaws.com/mldata/providers-train.csv -nc -P ./ml-data\n",
        "wget http://dataincubator-wqu.s3.amazonaws.com/mldata/providers-metadata.csv -nc -P ./ml-data"
      ]
    },
    {
      "cell_type": "markdown",
      "metadata": {
        "id": "MlI9NG68NORa"
      },
      "source": [
        "We'll load the data into a Pandas DataFrame. Several columns will become target labels in future questions. Let's pop those columns out from the data, and drop related columns that are neither targets nor reasonable features (i.e. we don't wouldn't know how many times a facility denied payment before knowing whether it was fined).\n",
        "\n",
        "The data has many columns. We have also provided a data dictionary."
      ]
    },
    {
      "cell_type": "code",
      "execution_count": null,
      "metadata": {
        "id": "B7CR9p3INORb"
      },
      "outputs": [],
      "source": [
        "import numpy as np\n",
        "import pandas as pd"
      ]
    },
    {
      "cell_type": "code",
      "execution_count": null,
      "metadata": {
        "id": "c_yUY-gdNORc",
        "outputId": "3eb07343-0312-4f41-a594-4535705fec2c"
      },
      "outputs": [
        {
          "data": {
            "text/html": [
              "<div>\n",
              "<style scoped>\n",
              "    .dataframe tbody tr th:only-of-type {\n",
              "        vertical-align: middle;\n",
              "    }\n",
              "\n",
              "    .dataframe tbody tr th {\n",
              "        vertical-align: top;\n",
              "    }\n",
              "\n",
              "    .dataframe thead th {\n",
              "        text-align: right;\n",
              "    }\n",
              "</style>\n",
              "<table border=\"1\" class=\"dataframe\">\n",
              "  <thead>\n",
              "    <tr style=\"text-align: right;\">\n",
              "      <th></th>\n",
              "      <th>Variable</th>\n",
              "      <th>Label</th>\n",
              "      <th>Description</th>\n",
              "      <th>Format</th>\n",
              "    </tr>\n",
              "  </thead>\n",
              "  <tbody>\n",
              "    <tr>\n",
              "      <th>0</th>\n",
              "      <td>PROVNUM</td>\n",
              "      <td>Federal Provider Number</td>\n",
              "      <td>Federal Provider Number</td>\n",
              "      <td>6 alphanumeric characters</td>\n",
              "    </tr>\n",
              "    <tr>\n",
              "      <th>1</th>\n",
              "      <td>PROVNAME</td>\n",
              "      <td>Provider Name</td>\n",
              "      <td>Provider Name</td>\n",
              "      <td>text</td>\n",
              "    </tr>\n",
              "    <tr>\n",
              "      <th>2</th>\n",
              "      <td>ADDRESS</td>\n",
              "      <td>Provider Address</td>\n",
              "      <td>Provider Address</td>\n",
              "      <td>text</td>\n",
              "    </tr>\n",
              "    <tr>\n",
              "      <th>3</th>\n",
              "      <td>CITY</td>\n",
              "      <td>Provider City</td>\n",
              "      <td>Provider City</td>\n",
              "      <td>text</td>\n",
              "    </tr>\n",
              "    <tr>\n",
              "      <th>4</th>\n",
              "      <td>STATE</td>\n",
              "      <td>Provider State</td>\n",
              "      <td>Provider State</td>\n",
              "      <td>2-character postal abbreviation</td>\n",
              "    </tr>\n",
              "  </tbody>\n",
              "</table>\n",
              "</div>"
            ],
            "text/plain": [
              "   Variable                    Label              Description  \\\n",
              "0   PROVNUM  Federal Provider Number  Federal Provider Number   \n",
              "1  PROVNAME            Provider Name            Provider Name   \n",
              "2   ADDRESS         Provider Address         Provider Address   \n",
              "3      CITY            Provider City            Provider City   \n",
              "4     STATE           Provider State           Provider State   \n",
              "\n",
              "                            Format  \n",
              "0        6 alphanumeric characters  \n",
              "1                             text  \n",
              "2                             text  \n",
              "3                             text  \n",
              "4  2-character postal abbreviation  "
            ]
          },
          "execution_count": 6,
          "metadata": {},
          "output_type": "execute_result"
        }
      ],
      "source": [
        "metadata = pd.read_csv('./ml-data/providers-metadata.csv')\n",
        "metadata.head()"
      ]
    },
    {
      "cell_type": "code",
      "execution_count": null,
      "metadata": {
        "id": "1AKx1nx3NORd"
      },
      "outputs": [],
      "source": [
        "data = pd.read_csv('./ml-data/providers-train.csv', encoding='latin1')\n",
        "\n",
        "fine_counts = data.pop('FINE_CNT')\n",
        "fine_totals = data.pop('FINE_TOT')\n",
        "cycle_2_score = data.pop('CYCLE_2_TOTAL_SCORE')"
      ]
    },
    {
      "cell_type": "markdown",
      "metadata": {
        "id": "z01--f7GNORe"
      },
      "source": [
        "## Question 1: state_model\n",
        "\n",
        "A federal agency, Centers for Medicare and Medicaid Services (CMS), imposes regulations on nursing homes. However, nursing homes are inspected by state agencies for compliance with regulations, and fines for violations can vary widely between states.\n",
        "\n",
        "Let's develop a very simple initial model to predict the amount of fines a nursing home might expect to pay based on its location. Fill in the class definition of the custom estimator, `StateMeanEstimator`, below.\n",
        "\n",
        "**Note:** When the grader checks your answer, it passes a list of dictionaries to the `predict` method of your estimator, not a DataFrame. This means that your model must work with both data types. You can handle this by adding a test (and optional conversion) in the `predict` method of your custom class, similar to the `ColumnSelectTransformer` given below in Question 2.  "
      ]
    },
    {
      "cell_type": "code",
      "execution_count": null,
      "metadata": {
        "id": "OqVtbYHeNORg"
      },
      "outputs": [],
      "source": [
        "from sklearn.base import BaseEstimator, RegressorMixin, TransformerMixin\n",
        "\n",
        "class GroupMeanEstimator(BaseEstimator, RegressorMixin):\n",
        "    def __init__(self, grouper):\n",
        "        self.grouper = grouper\n",
        "        self.group_averages = {}\n",
        "\n",
        "    def fit(self, X, y):\n",
        "        if not isinstance(X, pd.DataFrame):\n",
        "            X = pd.DataFrame(X)\n",
        "        # Use self.group_averages to store the average penalty by group\n",
        "        self.group_averages = y.groupby(X[self.grouper]).mean().to_dict()\n",
        "        self.group_averages['global_average'] = y.mean()\n",
        "        return self\n",
        "\n",
        "    def predict(self, X):\n",
        "        if not isinstance(X, pd.DataFrame):\n",
        "            X = pd.DataFrame(X)\n",
        "        # Return a list of predicted penalties based on group of samples in X\n",
        "        return [self.group_averages.get(group, self.group_averages['global_average']) for group in X[self.grouper]]"
      ]
    },
    {
      "cell_type": "markdown",
      "metadata": {
        "id": "5hCX-tS-NORh"
      },
      "source": [
        "After filling in class definition, we can create an instance of the estimator and fit it to the data."
      ]
    },
    {
      "cell_type": "code",
      "execution_count": null,
      "metadata": {
        "id": "JEuGDFZ1NORi",
        "outputId": "1a76645a-1bf7-474f-b6a2-c3a8020deead"
      },
      "outputs": [
        {
          "data": {
            "text/plain": [
              "Pipeline(steps=[('sme', GroupMeanEstimator(grouper='STATE'))])"
            ]
          },
          "execution_count": 9,
          "metadata": {},
          "output_type": "execute_result"
        }
      ],
      "source": [
        "from sklearn.pipeline import Pipeline\n",
        "\n",
        "state_model = Pipeline([\n",
        "    ('sme', GroupMeanEstimator(grouper='STATE'))\n",
        "    ])\n",
        "state_model.fit(data, fine_totals)"
      ]
    },
    {
      "cell_type": "markdown",
      "metadata": {
        "id": "gFgPVthhNORj"
      },
      "source": [
        "Next we should test that our predict method works."
      ]
    },
    {
      "cell_type": "code",
      "execution_count": null,
      "metadata": {
        "id": "OlFmgNk3NORk",
        "outputId": "472dd9b9-b2e1-450c-8be8-f9e57f9dbb98"
      },
      "outputs": [
        {
          "data": {
            "text/plain": [
              "[16612.338211382114,\n",
              " 560.171052631579,\n",
              " 3219.326530612245,\n",
              " 1275.5869565217392,\n",
              " 16612.338211382114]"
            ]
          },
          "execution_count": 10,
          "metadata": {},
          "output_type": "execute_result"
        }
      ],
      "source": [
        "state_model.predict(data.sample(5))"
      ]
    },
    {
      "cell_type": "markdown",
      "metadata": {
        "id": "AJPUUS0ENORl"
      },
      "source": [
        "However, what if we have data from a nursing home in a state (or territory) of the US which is not in the training data?"
      ]
    },
    {
      "cell_type": "code",
      "execution_count": null,
      "metadata": {
        "id": "z9mEcgj7NORl",
        "outputId": "96f6f472-6932-4b56-8e17-ec3d5084418d"
      },
      "outputs": [
        {
          "data": {
            "text/plain": [
              "[14969.857687877915]"
            ]
          },
          "execution_count": 11,
          "metadata": {},
          "output_type": "execute_result"
        }
      ],
      "source": [
        "state_model.predict(pd.DataFrame([{'STATE': 'AS'}]))"
      ]
    },
    {
      "cell_type": "markdown",
      "metadata": {
        "id": "6Y4SG82NNORn"
      },
      "source": [
        "Make sure your model can handle this possibility before submitting your model's predict method to the grader."
      ]
    },
    {
      "cell_type": "markdown",
      "metadata": {
        "id": "TrGLLqbJNORo"
      },
      "source": [
        "## Question 2: simple_features_model\n",
        "\n",
        "Nursing homes vary greatly in their business characteristics. Some are owned by the government or non-profits while others are run for profit. Some house a few dozen residents while others house hundreds. Some are located within hospitals and may work with more vulnerable populations. We will try to predict which facilities are fined based on their business characteristics.\n",
        "\n",
        "We'll begin with columns in our DataFrame containing numeric and boolean features. Some of the rows contain null values; estimators cannot handle null values so these must be imputed or dropped. We will create a `Pipeline` containing transformers that process these features, followed by an estimator.\n",
        "\n",
        "**Note:** As mentioned above in Question 1, when the grader checks your answer, it passes a list of dictionaries to the `predict` or `predict_proba` method of your estimator, not a DataFrame. This means that your model must work with both data types. For this reason, we've provided a custom `ColumnSelectTransformer` for you to use instead `scikit-learn`'s own `ColumnTransformer`."
      ]
    },
    {
      "cell_type": "code",
      "execution_count": null,
      "metadata": {
        "id": "fkccrT_MNORp"
      },
      "outputs": [],
      "source": [
        "from sklearn.impute import SimpleImputer\n",
        "\n",
        "simple_cols = ['BEDCERT', 'RESTOT', 'INHOSP', 'CCRC_FACIL', 'SFF', 'CHOW_LAST_12MOS', 'SPRINKLER_STATUS', 'EXP_TOTAL', 'ADJ_TOTAL']\n",
        "\n",
        "class ColumnSelectTransformer(BaseEstimator, TransformerMixin):\n",
        "    def __init__(self, columns):\n",
        "        self.columns = columns\n",
        "\n",
        "    def fit(self, X, y=None):\n",
        "        return self\n",
        "\n",
        "    def transform(self, X):\n",
        "        if not isinstance(X, pd.DataFrame):\n",
        "            X = pd.DataFrame(X)\n",
        "        return X[self.columns]\n",
        "        \n",
        "simple_features = Pipeline([\n",
        "    ('cst', ColumnSelectTransformer(simple_cols)),\n",
        "    ('imputer', SimpleImputer())\n",
        "])"
      ]
    },
    {
      "cell_type": "markdown",
      "metadata": {
        "id": "mOX2kgxgNORq"
      },
      "source": [
        "**Note:** The assertion below assumes the output of `noncategorical_features.fit_transform` is a `ndarray`, not a `DataFrame`.)"
      ]
    },
    {
      "cell_type": "code",
      "execution_count": null,
      "metadata": {
        "id": "uXlxJC8SNORr"
      },
      "outputs": [],
      "source": [
        "assert data['RESTOT'].isnull().sum() > 0\n",
        "assert not np.isnan(simple_features.fit_transform(data)).any()"
      ]
    },
    {
      "cell_type": "markdown",
      "metadata": {
        "id": "Nyjgf20SNORr"
      },
      "source": [
        "Now combine the `simple_features` pipeline with an estimator in a new pipeline. Fit `simple_features_model` to the data and submit `simple_features_model.predict_proba` to the grader. You may wish to use cross-validation to tune the hyperparameters of your model."
      ]
    },
    {
      "cell_type": "code",
      "execution_count": null,
      "metadata": {
        "id": "w28muZU4NORs",
        "outputId": "01abc4e6-ea90-4eee-9e57-29051267d126"
      },
      "outputs": [
        {
          "name": "stdout",
          "output_type": "stream",
          "text": [
            "Fitting 5 folds for each of 50 candidates, totalling 250 fits\n"
          ]
        },
        {
          "name": "stderr",
          "output_type": "stream",
          "text": [
            "[Parallel(n_jobs=4)]: Using backend LokyBackend with 4 concurrent workers.\n",
            "[Parallel(n_jobs=4)]: Done  42 tasks      | elapsed:   51.0s\n",
            "[Parallel(n_jobs=4)]: Done 192 tasks      | elapsed:  3.7min\n",
            "[Parallel(n_jobs=4)]: Done 250 out of 250 | elapsed:  4.8min finished\n"
          ]
        },
        {
          "data": {
            "text/plain": [
              "{'estimator__n_estimators': 40, 'estimator__max_depth': 3}"
            ]
          },
          "execution_count": 18,
          "metadata": {},
          "output_type": "execute_result"
        }
      ],
      "source": [
        "from sklearn.ensemble import RandomForestClassifier\n",
        "from sklearn.model_selection import GridSearchCV, RandomizedSearchCV\n",
        "\n",
        "param_grid = {'estimator__n_estimators': range(20, 100, 10),\n",
        "              'estimator__max_depth': range(3, 15, 1)}\n",
        "\n",
        "simple_features_model = Pipeline([\n",
        "    ('simple', simple_features),\n",
        "    ('estimator', RandomForestClassifier(n_estimators=60, max_depth = 5))\n",
        "])\n",
        "\n",
        "gs = RandomizedSearchCV(simple_features_model, param_distributions = param_grid, cv = 5, n_iter = 50, n_jobs = 4, verbose = 1)\n",
        "\n",
        "gs.fit(data, fine_counts > 0)\n",
        "\n",
        "gs.best_params_"
      ]
    },
    {
      "cell_type": "code",
      "execution_count": null,
      "metadata": {
        "id": "F-w45wWCNORt",
        "outputId": "e5e162bb-70df-4a3e-9bb0-8f0f22901374"
      },
      "outputs": [
        {
          "data": {
            "text/plain": [
              "Pipeline(steps=[('simple',\n",
              "                 Pipeline(steps=[('cst',\n",
              "                                  ColumnSelectTransformer(columns=['BEDCERT',\n",
              "                                                                   'RESTOT',\n",
              "                                                                   'INHOSP',\n",
              "                                                                   'CCRC_FACIL',\n",
              "                                                                   'SFF',\n",
              "                                                                   'CHOW_LAST_12MOS',\n",
              "                                                                   'SPRINKLER_STATUS',\n",
              "                                                                   'EXP_TOTAL',\n",
              "                                                                   'ADJ_TOTAL'])),\n",
              "                                 ('imputer', SimpleImputer())])),\n",
              "                ('estimator',\n",
              "                 RandomForestClassifier(min_samples_leaf=100,\n",
              "                                        n_estimators=200))])"
            ]
          },
          "execution_count": 19,
          "metadata": {},
          "output_type": "execute_result"
        }
      ],
      "source": [
        "simple_features_model = Pipeline([\n",
        "    ('simple', simple_features),\n",
        "    ('estimator', RandomForestClassifier(n_estimators=200, min_samples_leaf = 100))\n",
        "])\n",
        "\n",
        "simple_features_model.fit(data, fine_counts > 0)"
      ]
    },
    {
      "cell_type": "code",
      "execution_count": null,
      "metadata": {
        "id": "E5tleCW6NORu",
        "outputId": "4fa2eef4-9ab5-4f7a-ae69-d7b728e207d5"
      },
      "outputs": [
        {
          "name": "stdout",
          "output_type": "stream",
          "text": [
            "==================\n",
            "Your score: 1.002\n",
            "==================\n"
          ]
        }
      ],
      "source": [
        "def positive_probability(model):\n",
        "    def predict_proba(X):\n",
        "        return model.predict_proba(X)[:, 1]\n",
        "    return predict_proba\n",
        "\n",
        "grader.score.ml__simple_features(positive_probability(simple_features_model))"
      ]
    },
    {
      "cell_type": "markdown",
      "metadata": {
        "id": "eUP3wRRmNORv"
      },
      "source": [
        "## Question 3: categorical_features"
      ]
    },
    {
      "cell_type": "markdown",
      "metadata": {
        "id": "q2jugQ0ONORw"
      },
      "source": [
        "The `'OWNERSHIP'` and `'CERTIFICATION'` columns contain categorical data. We will have to encode the categorical data into numerical features before we pass them to an estimator. Construct one or more pipelines for this purpose. Transformers such as [LabelEncoder](https://scikit-learn.org/0.19/modules/generated/sklearn.preprocessing.LabelEncoder.html#sklearn.preprocessing.LabelEncoder) and [OneHotEncoder](https://scikit-learn.org/0.19/modules/generated/sklearn.preprocessing.OneHotEncoder.html#sklearn.preprocessing.OneHotEncoder) may be useful, but you may also want to define your own transformers.\n",
        "\n",
        "If you used more than one `Pipeline`, combine them with a `FeatureUnion`. As in Question 2, we will combine this with an estimator, fit it, and submit the `predict_proba` method to the grader."
      ]
    },
    {
      "cell_type": "code",
      "execution_count": null,
      "metadata": {
        "id": "JmSi7bMnNORw"
      },
      "outputs": [],
      "source": [
        "from sklearn.pipeline import FeatureUnion\n",
        "from sklearn.preprocessing import OneHotEncoder\n",
        "\n",
        "owner_onehot = Pipeline([\n",
        "    ('cst', ColumnSelectTransformer(['OWNERSHIP'])),\n",
        "    ('ohe', OneHotEncoder (categories = 'auto', sparse = False))\n",
        "])\n",
        "\n",
        "cert_onehot = Pipeline([\n",
        "    ('cst', ColumnSelectTransformer(['CERTIFICATION'])),\n",
        "    ('ohe', OneHotEncoder (categories = 'auto', sparse = False))\n",
        "])\n",
        "\n",
        "categorical_features = FeatureUnion([\n",
        "    ('owner', owner_onehot),\n",
        "    ('cert', cert_onehot)\n",
        "])"
      ]
    },
    {
      "cell_type": "code",
      "execution_count": null,
      "metadata": {
        "id": "iMnMZEvCNORx"
      },
      "outputs": [],
      "source": [
        "assert categorical_features.fit_transform(data).shape[0] == data.shape[0]\n",
        "assert categorical_features.fit_transform(data).dtype == np.float64\n",
        "assert not np.isnan(categorical_features.fit_transform(data)).any()"
      ]
    },
    {
      "cell_type": "markdown",
      "metadata": {
        "id": "mxbf2kchNORy"
      },
      "source": [
        "As in the previous question, create a model using the `categorical_features`, fit it to the data, and submit its `predict_proba` method to the grader."
      ]
    },
    {
      "cell_type": "code",
      "execution_count": null,
      "metadata": {
        "id": "67kvN8HSNORy"
      },
      "outputs": [],
      "source": [
        "categorical_features_model = Pipeline([\n",
        "    ('categorical', categorical_features),\n",
        "    ('estimator', RandomForestClassifier(n_estimators=200, min_samples_leaf = 100))\n",
        "])"
      ]
    },
    {
      "cell_type": "code",
      "execution_count": null,
      "metadata": {
        "id": "MxJPaH4kNORz",
        "outputId": "831514f4-2867-41cc-a6e0-3742978cfa71"
      },
      "outputs": [
        {
          "data": {
            "text/plain": [
              "Pipeline(steps=[('categorical',\n",
              "                 FeatureUnion(transformer_list=[('owner',\n",
              "                                                 Pipeline(steps=[('cst',\n",
              "                                                                  ColumnSelectTransformer(columns=['OWNERSHIP'])),\n",
              "                                                                 ('ohe',\n",
              "                                                                  OneHotEncoder(sparse=False))])),\n",
              "                                                ('cert',\n",
              "                                                 Pipeline(steps=[('cst',\n",
              "                                                                  ColumnSelectTransformer(columns=['CERTIFICATION'])),\n",
              "                                                                 ('ohe',\n",
              "                                                                  OneHotEncoder(sparse=False))]))])),\n",
              "                ('estimator',\n",
              "                 RandomForestClassifier(min_samples_leaf=100,\n",
              "                                        n_estimators=200))])"
            ]
          },
          "execution_count": 24,
          "metadata": {},
          "output_type": "execute_result"
        }
      ],
      "source": [
        "categorical_features_model.fit(data, fine_counts > 0)"
      ]
    },
    {
      "cell_type": "markdown",
      "metadata": {
        "id": "F7vVOKW9NOR1"
      },
      "source": [
        "## Question 4: business_model"
      ]
    },
    {
      "cell_type": "markdown",
      "metadata": {
        "id": "jun7PGYJNOR1"
      },
      "source": [
        "Finally, we'll combine `simple_features` and `categorical_features` in a `FeatureUnion`, followed by an estimator in a `Pipeline`. You may want to optimize the hyperparameters of your estimator using cross-validation or try engineering new features (e.g. see [PolynomialFeatures](https://scikit-learn.org/stable/modules/generated/sklearn.preprocessing.PolynomialFeatures.html)). When you've assembled and trained your model, pass the `predict_proba` method to the grader."
      ]
    },
    {
      "cell_type": "code",
      "execution_count": null,
      "metadata": {
        "id": "G2v6ZXklNOR2"
      },
      "outputs": [],
      "source": [
        "from sklearn.preprocessing  import PolynomialFeatures\n",
        "from sklearn.linear_model import LogisticRegression\n",
        "business_features = FeatureUnion([\n",
        "    ('simple', simple_features),\n",
        "    ('categorical', categorical_features)\n",
        "])"
      ]
    },
    {
      "cell_type": "code",
      "execution_count": null,
      "metadata": {
        "id": "6DrINgLENOR3"
      },
      "outputs": [],
      "source": [
        "business_model = Pipeline([\n",
        "    ('features', business_features),\n",
        "    ('ploy', PolynomialFeatures(3)),\n",
        "    ('estimator', RandomForestClassifier(n_estimators=200, min_samples_leaf = 100))\n",
        "    \n",
        "])"
      ]
    },
    {
      "cell_type": "code",
      "execution_count": null,
      "metadata": {
        "id": "Stp4JVqeNOR3",
        "outputId": "8f3a42e0-1516-4093-a876-e04dd5cda9a4"
      },
      "outputs": [
        {
          "data": {
            "text/plain": [
              "Pipeline(steps=[('features',\n",
              "                 FeatureUnion(transformer_list=[('simple',\n",
              "                                                 Pipeline(steps=[('cst',\n",
              "                                                                  ColumnSelectTransformer(columns=['BEDCERT',\n",
              "                                                                                                   'RESTOT',\n",
              "                                                                                                   'INHOSP',\n",
              "                                                                                                   'CCRC_FACIL',\n",
              "                                                                                                   'SFF',\n",
              "                                                                                                   'CHOW_LAST_12MOS',\n",
              "                                                                                                   'SPRINKLER_STATUS',\n",
              "                                                                                                   'EXP_TOTAL',\n",
              "                                                                                                   'ADJ_TOTAL'])),\n",
              "                                                                 ('imputer',\n",
              "                                                                  SimpleImputer())])),\n",
              "                                                ('categorical',\n",
              "                                                 FeatureUnion(transformer_list=[('owner',\n",
              "                                                                                 Pipeline(steps=[('cst',\n",
              "                                                                                                  ColumnSelectTransformer(columns=['OWNERSHIP'])),\n",
              "                                                                                                 ('ohe',\n",
              "                                                                                                  OneHotEncoder(sparse=False))])),\n",
              "                                                                                ('cert',\n",
              "                                                                                 Pipeline(steps=[('cst',\n",
              "                                                                                                  ColumnSelectTransformer(columns=['CERTIFICATION'])),\n",
              "                                                                                                 ('ohe',\n",
              "                                                                                                  OneHotEncoder(sparse=False))]))]))])),\n",
              "                ('ploy', PolynomialFeatures(degree=3)),\n",
              "                ('estimator',\n",
              "                 RandomForestClassifier(min_samples_leaf=100,\n",
              "                                        n_estimators=200))])"
            ]
          },
          "execution_count": 28,
          "metadata": {},
          "output_type": "execute_result"
        }
      ],
      "source": [
        "business_model.fit(data, fine_counts > 0)"
      ]
    },
    {
      "cell_type": "markdown",
      "metadata": {
        "id": "SbPrxfhrNOR6"
      },
      "source": [
        "## Question 5: survey_results"
      ]
    },
    {
      "cell_type": "markdown",
      "metadata": {
        "id": "RnWnNNB1NOR6"
      },
      "source": [
        "Surveys reveal safety and health deficiencies at nursing homes that may indicate risk for incidents (and penalties). CMS routinely makes surveys of nursing homes. Build a model that combines the `business_features` of each facility with its cycle 1 survey results, as well as the time between the cycle 1 and cycle 2 survey to predict the cycle 2 total score.\n",
        "\n",
        "First, let's create a transformer to calculate the difference in time between the cycle 1 and cycle 2 surveys."
      ]
    },
    {
      "cell_type": "code",
      "execution_count": null,
      "metadata": {
        "id": "9CA9Y2V3NOR7"
      },
      "outputs": [],
      "source": [
        "class TimedeltaTransformer(BaseEstimator, TransformerMixin):\n",
        "    def __init__(self, t1_col, t2_col):\n",
        "        self.t1_col = t1_col\n",
        "        self.t2_col = t2_col\n",
        "\n",
        "    def fit(self, X, y=None):\n",
        "        return self\n",
        "\n",
        "    def transform(self, X):\n",
        "        if not isinstance(X,pd.DataFrame):\n",
        "               X = pd.DataFrame(X)\n",
        "        return (pd.to_datetime( X[self.t2_col])\n",
        "                -pd.to_datetime( X[self.t1_col])).values.reshape(-1,1).astype(float)"
      ]
    },
    {
      "cell_type": "code",
      "execution_count": null,
      "metadata": {
        "id": "4W-8-pChNOR8"
      },
      "outputs": [],
      "source": [
        "cycle_1_date = 'CYCLE_1_SURVEY_DATE'\n",
        "cycle_2_date = 'CYCLE_2_SURVEY_DATE'\n",
        "time_feature = TimedeltaTransformer(cycle_1_date, cycle_2_date)"
      ]
    },
    {
      "cell_type": "markdown",
      "metadata": {
        "id": "cwfijqwxNOR9"
      },
      "source": [
        "In the cell below we'll collect the cycle 1 survey features."
      ]
    },
    {
      "cell_type": "code",
      "execution_count": null,
      "metadata": {
        "id": "S9tdDxkbNOR9"
      },
      "outputs": [],
      "source": [
        "cycle_1_cols = ['CYCLE_1_DEFS', 'CYCLE_1_NFROMDEFS', 'CYCLE_1_NFROMCOMP',\n",
        "                'CYCLE_1_DEFS_SCORE', 'CYCLE_1_NUMREVIS',\n",
        "                'CYCLE_1_REVISIT_SCORE', 'CYCLE_1_TOTAL_SCORE']\n",
        "cycle_1_features = ColumnSelectTransformer(cycle_1_cols)"
      ]
    },
    {
      "cell_type": "code",
      "execution_count": null,
      "metadata": {
        "id": "zJfT74nsNOR-"
      },
      "outputs": [],
      "source": [
        "from sklearn.ensemble import RandomForestRegressor\n",
        "from sklearn.decomposition import TruncatedSVD\n",
        "\n",
        "survey_model = Pipeline([\n",
        "    ('features', FeatureUnion([\n",
        "        ('business', business_features),\n",
        "        ('survey', cycle_1_features),\n",
        "        ('time', time_feature)\n",
        "    ])),\n",
        "    (\"poly\", PolynomialFeatures(2)),\n",
        "    (\"svd\", TruncatedSVD(20) ),\n",
        "    (\"classifier\", RandomForestRegressor(n_estimators=200, min_samples_leaf = 100))\n",
        "])"
      ]
    },
    {
      "cell_type": "code",
      "execution_count": null,
      "metadata": {
        "id": "wJgrWZRpNOR-",
        "outputId": "719ba569-9387-4904-cfec-ae8e4a312aef"
      },
      "outputs": [
        {
          "data": {
            "text/plain": [
              "Pipeline(steps=[('features',\n",
              "                 FeatureUnion(transformer_list=[('business',\n",
              "                                                 FeatureUnion(transformer_list=[('simple',\n",
              "                                                                                 Pipeline(steps=[('cst',\n",
              "                                                                                                  ColumnSelectTransformer(columns=['BEDCERT',\n",
              "                                                                                                                                   'RESTOT',\n",
              "                                                                                                                                   'INHOSP',\n",
              "                                                                                                                                   'CCRC_FACIL',\n",
              "                                                                                                                                   'SFF',\n",
              "                                                                                                                                   'CHOW_LAST_12MOS',\n",
              "                                                                                                                                   'SPRINKLER_STATUS',\n",
              "                                                                                                                                   'EXP_TOTAL',\n",
              "                                                                                                                                   'ADJ_TOTAL'])),\n",
              "                                                                                                 ('imputer',\n",
              "                                                                                                  SimpleImputer())])),\n",
              "                                                                                ('categorical',\n",
              "                                                                                 FeatureUnion(transformer_...\n",
              "                                                                                  'CYCLE_1_NFROMDEFS',\n",
              "                                                                                  'CYCLE_1_NFROMCOMP',\n",
              "                                                                                  'CYCLE_1_DEFS_SCORE',\n",
              "                                                                                  'CYCLE_1_NUMREVIS',\n",
              "                                                                                  'CYCLE_1_REVISIT_SCORE',\n",
              "                                                                                  'CYCLE_1_TOTAL_SCORE'])),\n",
              "                                                ('time',\n",
              "                                                 TimedeltaTransformer(t1_col='CYCLE_1_SURVEY_DATE',\n",
              "                                                                      t2_col='CYCLE_2_SURVEY_DATE'))])),\n",
              "                ('poly', PolynomialFeatures()),\n",
              "                ('svd', TruncatedSVD(n_components=20)),\n",
              "                ('classifier',\n",
              "                 RandomForestRegressor(min_samples_leaf=100,\n",
              "                                       n_estimators=200))])"
            ]
          },
          "execution_count": 34,
          "metadata": {},
          "output_type": "execute_result"
        }
      ],
      "source": [
        "survey_model.fit(data, cycle_2_score.astype(int))"
      ]
    }
  ],
  "metadata": {
    "kernelspec": {
      "display_name": "Python 3",
      "language": "python",
      "name": "python3"
    },
    "language_info": {
      "codemirror_mode": {
        "name": "ipython",
        "version": 3
      },
      "file_extension": ".py",
      "mimetype": "text/x-python",
      "name": "python",
      "nbconvert_exporter": "python",
      "pygments_lexer": "ipython3",
      "version": "3.8.8"
    },
    "nbclean": true,
    "colab": {
      "name": "machine_learning.ipynb",
      "provenance": [],
      "collapsed_sections": [
        "TrGLLqbJNORo"
      ],
      "include_colab_link": true
    }
  },
  "nbformat": 4,
  "nbformat_minor": 0
}